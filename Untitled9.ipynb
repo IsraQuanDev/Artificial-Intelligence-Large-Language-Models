{
  "nbformat": 4,
  "nbformat_minor": 0,
  "metadata": {
    "colab": {
      "provenance": [],
      "gpuType": "T4",
      "authorship_tag": "ABX9TyOjhjtuSIrKoHbTtH7briCE",
      "include_colab_link": true
    },
    "kernelspec": {
      "name": "python3",
      "display_name": "Python 3"
    },
    "language_info": {
      "name": "python"
    },
    "accelerator": "GPU"
  },
  "cells": [
    {
      "cell_type": "markdown",
      "metadata": {
        "id": "view-in-github",
        "colab_type": "text"
      },
      "source": [
        "<a href=\"https://colab.research.google.com/github/IsraQuanDev/Artificial-Intelligence-Large-Language-Models/blob/main/Untitled9.ipynb\" target=\"_parent\"><img src=\"https://colab.research.google.com/assets/colab-badge.svg\" alt=\"Open In Colab\"/></a>"
      ]
    },
    {
      "cell_type": "markdown",
      "source": [
        "# My First Colab Notebook\n",
        "This is a markdown cell where you can add text,\n",
        "links, images, and more."
      ],
      "metadata": {
        "id": "l-Ig_s4MyOET"
      }
    },
    {
      "cell_type": "code",
      "source": [
        "print(\"Hello, Google Colab!\")"
      ],
      "metadata": {
        "colab": {
          "base_uri": "https://localhost:8080/"
        },
        "id": "OaeBEw2AyKKg",
        "outputId": "e12b1451-7676-4426-b300-8fa49fb6cfb9"
      },
      "execution_count": 4,
      "outputs": [
        {
          "output_type": "stream",
          "name": "stdout",
          "text": [
            "Hello, Google Colab!\n"
          ]
        }
      ]
    },
    {
      "cell_type": "code",
      "source": [],
      "metadata": {
        "id": "_KrDicFuyKNR"
      },
      "execution_count": null,
      "outputs": []
    }
  ]
}